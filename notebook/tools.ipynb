{
 "cells": [
  {
   "cell_type": "code",
   "execution_count": 1,
   "id": "d2e12395",
   "metadata": {},
   "outputs": [],
   "source": [
    "import zod from 'zod'\n",
    "import { zodToJsonSchema } from 'zod-to-json-schema'\n",
    "import { JsonOutputToolsParser } from '@langchain/core/output_parsers/openai_tools'\n",
    "\n",
    "const objectSchema = zod.object({\n",
    "  location: zod.string().describe(\"The city and state, e.g. San Francisco, CA\"),\n",
    "  unit: zod.enum(['celsius', 'fahrenheit']).describe('The unit of temperature')\n",
    "})"
   ]
  },
  {
   "cell_type": "code",
   "execution_count": 2,
   "id": "fb3933da",
   "metadata": {},
   "outputs": [],
   "source": [
    "import { newLLM } from './utils.ts'\n",
    "\n",
    "const model = newLLM();"
   ]
  },
  {
   "cell_type": "code",
   "execution_count": 3,
   "id": "3153f106",
   "metadata": {},
   "outputs": [
    {
     "data": {
      "text/plain": [
       "[\n",
       "  {\n",
       "    type: \u001b[32m\"getCurrentWeather\"\u001b[39m,\n",
       "    args: { location: \u001b[32m\"北京\"\u001b[39m, unit: \u001b[32m\"celsius\"\u001b[39m },\n",
       "    id: \u001b[90mundefined\u001b[39m\n",
       "  }\n",
       "]"
      ]
     },
     "execution_count": 3,
     "metadata": {},
     "output_type": "execute_result"
    }
   ],
   "source": [
    "model.bindTools([\n",
    "  {\n",
    "    type: 'function',\n",
    "    function: {\n",
    "      name: 'getCurrentWeather',\n",
    "      description: 'Get the current weather in a given location',\n",
    "      parameters: zodToJsonSchema(objectSchema)\n",
    "    }\n",
    "  }\n",
    "])\n",
    "\n",
    "const chain = model.pipe(new JsonOutputToolsParser() as any);\n",
    "\n",
    "await chain.invoke('请问北京天气怎么样')"
   ]
  }
 ],
 "metadata": {
  "kernelspec": {
   "display_name": "Deno",
   "language": "typescript",
   "name": "deno"
  },
  "language_info": {
   "codemirror_mode": "typescript",
   "file_extension": ".ts",
   "mimetype": "text/x.typescript",
   "name": "typescript",
   "nbconvert_exporter": "script",
   "pygments_lexer": "typescript",
   "version": "5.8.3"
  }
 },
 "nbformat": 4,
 "nbformat_minor": 5
}
