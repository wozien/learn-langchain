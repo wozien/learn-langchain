{
 "cells": [
  {
   "cell_type": "code",
   "execution_count": 2,
   "id": "b2007747",
   "metadata": {},
   "outputs": [
    {
     "name": "stdout",
     "output_type": "stream",
     "text": [
      "{ question: \"111\" }\n",
      "{ input: { question: \"111\" }, age: 14 }\n"
     ]
    }
   ],
   "source": [
    "import { RunnableSequence, RunnablePassthrough } from \"@langchain/core/runnables\";\n",
    "\n",
    "const testChain = RunnableSequence.from([\n",
    "  {\n",
    "    input: new RunnablePassthrough({\n",
    "      func: (input) => {\n",
    "        console.log(input)\n",
    "      }\n",
    "    })\n",
    "  },\n",
    "  RunnablePassthrough.assign({\n",
    "    age: () => 14\n",
    "  }),\n",
    "  (params) => {\n",
    "    console.log(params)\n",
    "  }\n",
    "] as any)\n",
    "\n",
    "await testChain.invoke({ question: '111' })\n"
   ]
  }
 ],
 "metadata": {
  "kernelspec": {
   "display_name": "Deno",
   "language": "typescript",
   "name": "deno"
  },
  "language_info": {
   "codemirror_mode": "typescript",
   "file_extension": ".ts",
   "mimetype": "text/x.typescript",
   "name": "typescript",
   "nbconvert_exporter": "script",
   "pygments_lexer": "typescript",
   "version": "5.8.3"
  }
 },
 "nbformat": 4,
 "nbformat_minor": 5
}
