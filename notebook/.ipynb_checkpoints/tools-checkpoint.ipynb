{
 "cells": [
  {
   "cell_type": "code",
   "execution_count": null,
   "id": "d2e12395",
   "metadata": {},
   "outputs": [
    {
     "ename": "",
     "evalue": "",
     "output_type": "error",
     "traceback": [
      "\u001b[1;31mFailed to start the Kernel. \n",
      "\u001b[1;31mUnable to start Kernel 'Deno' due to a timeout waiting for the ports to get used. \n",
      "\u001b[1;31mView Jupyter <a href='command:jupyter.viewOutput'>log</a> for further details."
     ]
    }
   ],
   "source": [
    "import zod from 'zod'\n",
    "import { zodToJsonSchema } from 'zod-to-json-schema'\n",
    "import { JsonOutputToolsParser } from '@langchain/core/output_parsers/openai_tools'\n",
    "\n",
    "const objectSchema = zod.object({\n",
    "  location: zod.string().describe(\"The city and state, e.g. San Francisco, CA\"),\n",
    "  unit: zod.enum(['celsius', 'fahrenheit']).describe('The unit of temperature')\n",
    "})"
   ]
  },
  {
   "cell_type": "code",
   "execution_count": null,
   "id": "fb3933da",
   "metadata": {},
   "outputs": [],
   "source": [
    "import { newLLM } from './utils.ts'\n",
    "\n",
    "const model = newLLM();"
   ]
  },
  {
   "cell_type": "code",
   "execution_count": null,
   "id": "3153f106",
   "metadata": {},
   "outputs": [],
   "source": [
    "model.bindTools([\n",
    "  {\n",
    "    type: 'function',\n",
    "    function: {\n",
    "      name: 'getCurrentWeather',\n",
    "      description: 'Get the current weather in a given location',\n",
    "      parameters: zodToJsonSchema(objectSchema)\n",
    "    }\n",
    "  }\n",
    "])\n",
    "\n",
    "const chain = model.pipe(new JsonOutputToolsParser() as any);\n",
    "\n",
    "await chain.invoke('请问北京天气怎么样')"
   ]
  }
 ],
 "metadata": {
  "kernelspec": {
   "display_name": "Deno",
   "language": "typescript",
   "name": "deno"
  },
  "language_info": {
   "codemirror_mode": "typescript",
   "file_extension": ".ts",
   "mimetype": "text/x.typescript",
   "name": "typescript",
   "nbconvert_exporter": "script",
   "pygments_lexer": "typescript",
   "version": "5.8.3"
  }
 },
 "nbformat": 4,
 "nbformat_minor": 5
}
