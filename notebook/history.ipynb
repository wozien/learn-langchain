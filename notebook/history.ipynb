{
 "cells": [
  {
   "cell_type": "code",
   "execution_count": null,
   "id": "8b85745a",
   "metadata": {},
   "outputs": [],
   "source": [
    "import { env } from './utils.ts';"
   ]
  },
  {
   "cell_type": "code",
   "execution_count": 3,
   "id": "7a735255",
   "metadata": {},
   "outputs": [],
   "source": [
    "import { ChatOpenAI } from '@langchain/openai';\n",
    "import { ChatPromptTemplate, MessagesPlaceholder } from '@langchain/core/prompts';\n",
    "import { RunnableSequence, RunnablePassthrough } from \"@langchain/core/runnables\";\n",
    "import { StringOutputParser } from \"@langchain/core/output_parsers\";\n",
    "\n",
    "const summaryModel = new ChatOpenAI({\n",
    "  configuration: {\n",
    "    baseURL: env[\"QWEN_BASE_URL\"],\n",
    "    apiKey: env[\"QWEN_API_KEY\"],\n",
    "  },\n",
    "  model: env[\"QWEN_MODEL\"],\n",
    "});\n",
    "const summaryPrompt = ChatPromptTemplate.fromTemplate(`\n",
    "Progressively summarize the lines of conversation provided, adding onto the previous summary returning a new summary\n",
    "\n",
    "Current summary:\n",
    "{summary}\n",
    "\n",
    "New lines of conversation:\n",
    "{new_lines}\n",
    "\n",
    "New summary:\n",
    "`);\n",
    "\n",
    "const summaryChain = RunnableSequence.from([\n",
    "  summaryPrompt,\n",
    "  summaryModel,\n",
    "  new StringOutputParser()\n",
    "] as any);"
   ]
  },
  {
   "cell_type": "code",
   "execution_count": null,
   "id": "773e4754",
   "metadata": {},
   "outputs": [],
   "source": [
    "import { ChatMessageHistory } from 'langchain/stores/message/in_memory';\n",
    "import { getBufferString } from 'langchain/memory'\n",
    "\n",
    "const chatModel = new ChatOpenAI({\n",
    "  configuration: {\n",
    "    baseURL: env[\"QWEN_BASE_URL\"],\n",
    "    apiKey: env[\"QWEN_API_KEY\"],\n",
    "  },\n",
    "  model: env[\"QWEN_MODEL\"],\n",
    "});\n",
    "\n",
    "const chatPrompt = ChatPromptTemplate.fromMessages([\n",
    "  ['system', `You are a helpful assistant. Answer all questions to the best of your ability.\n",
    "    \n",
    "    Here is the chat history summary:\n",
    "    {history_summary}\n",
    "  `],\n",
    "  ['human', '{input}']\n",
    "]);\n",
    "\n",
    "let summary = '';\n",
    "const chatHistory = new ChatMessageHistory();\n",
    "\n",
    "const chatChain = RunnableSequence.from([\n",
    "  {\n",
    "    input: new RunnablePassthrough({\n",
    "      func: (input) => {\n",
    "        chatHistory.addUserMessage(input)\n",
    "      }\n",
    "    }),\n",
    "  },\n",
    "  RunnablePassthrough.assign({\n",
    "    history_summary: () => summary\n",
    "  }),\n",
    "  chatPrompt,\n",
    "  chatModel,\n",
    "  new StringOutputParser(), \n",
    "  new RunnablePassthrough({\n",
    "    func: async (input) => {\n",
    "      chatHistory.addAIMessage(input)\n",
    "      const messages = await chatHistory.getMessages();\n",
    "      const new_lines = getBufferString(messages)\n",
    "      const newSummary = await summaryChain.invoke({\n",
    "        summary,\n",
    "        new_lines\n",
    "      });\n",
    "      chatHistory.clear();\n",
    "      summary = newSummary;\n",
    "    }\n",
    "  })\n",
    "] as any)\n"
   ]
  },
  {
   "cell_type": "code",
   "execution_count": 5,
   "id": "eb92ab2b",
   "metadata": {},
   "outputs": [
    {
     "name": "stdout",
     "output_type": "stream",
     "text": [
      "new_lines:  Human: 我现在饿了\n",
      "AI: 那你可以吃点东西啊。你附近有什么好吃的吗？或者你想要什么类型的美食？我可以给你一些建议哦。\n",
      "summary:  你告诉AI你现在饿了，AI建议你可以吃点东西，并询问你附近有什么好吃的或你想要什么类型的美食，以便给你提供一些建议。\n"
     ]
    },
    {
     "data": {
      "text/plain": [
       "\u001b[32m\"那你可以吃点东西啊。你附近有什么好吃的吗？或者你想要什么类型的美食？我可以给你一些建议哦。\"\u001b[39m"
      ]
     },
     "execution_count": 5,
     "metadata": {},
     "output_type": "execute_result"
    }
   ],
   "source": [
    "await chatChain.invoke('我现在饿了')"
   ]
  },
  {
   "cell_type": "code",
   "execution_count": 6,
   "id": "3832461e",
   "metadata": {},
   "outputs": [
    {
     "name": "stdout",
     "output_type": "stream",
     "text": [
      "new_lines:  Human: 我今天想吃方便面\n",
      "AI: 那你可以选择一款你喜欢口味的方便面，煮着吃或者泡着吃都可以。如果你想要更丰富一点，可以加一个鸡蛋、一些蔬菜或者火腿进去，这样更有营养哦。你平时喜欢吃什么口味的方便面呢？\n",
      "summary:  你告诉AI你现在饿了，AI建议你可以吃点东西，并询问你附近有什么好吃的或你想要什么类型的美食，以便给你提供一些建议。你告诉AI你今天想吃方便面，AI建议你可以选择一款喜欢的口味，煮泡皆可，并建议添加鸡蛋、蔬菜或火腿让营养更丰富，同时询问你平时喜欢什么口味的方便面。\n"
     ]
    },
    {
     "data": {
      "text/plain": [
       "\u001b[32m\"那你可以选择一款你喜欢口味的方便面，煮着吃或者泡着吃都可以。如果你想要更丰富一点，可以加一个鸡蛋、一些蔬菜或者火腿进去，这样更有营养哦。你平时喜欢吃什么口味的方便面呢？\"\u001b[39m"
      ]
     },
     "execution_count": 6,
     "metadata": {},
     "output_type": "execute_result"
    }
   ],
   "source": [
    "await chatChain.invoke('我今天想吃方便面')"
   ]
  }
 ],
 "metadata": {
  "kernelspec": {
   "display_name": "Deno",
   "language": "typescript",
   "name": "deno"
  },
  "language_info": {
   "codemirror_mode": "typescript",
   "file_extension": ".ts",
   "mimetype": "text/x.typescript",
   "name": "typescript",
   "nbconvert_exporter": "script",
   "pygments_lexer": "typescript",
   "version": "5.8.3"
  }
 },
 "nbformat": 4,
 "nbformat_minor": 5
}
