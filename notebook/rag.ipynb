{
 "cells": [
  {
   "cell_type": "code",
   "execution_count": null,
   "id": "e703cf27",
   "metadata": {},
   "outputs": [],
   "source": [
    "import { env } from './env.ts'"
   ]
  },
  {
   "cell_type": "code",
   "execution_count": null,
   "id": "b346a733",
   "metadata": {},
   "outputs": [],
   "source": [
    "import { TextLoader } from \"langchain/document_loaders/fs/text\";\n",
    "const loader = new TextLoader('../dataset/qiu.txt');\n",
    "const docs = await loader.load()"
   ]
  },
  {
   "cell_type": "code",
   "execution_count": null,
   "id": "ac4afb9a",
   "metadata": {},
   "outputs": [],
   "source": [
    "import { RecursiveCharacterTextSplitter } from \"langchain/text_splitter\";\n",
    "const splitter = new RecursiveCharacterTextSplitter({\n",
    "  chunkSize: 500,\n",
    "  chunkOverlap: 100,\n",
    "});\n",
    "\n",
    "const splitDocs = await splitter.splitDocuments(docs);"
   ]
  },
  {
   "cell_type": "code",
   "execution_count": null,
   "id": "6c717316",
   "metadata": {},
   "outputs": [],
   "source": [
    "import { OpenAIEmbeddings } from \"@langchain/openai\";\n",
    "\n",
    "const embeddings = new OpenAIEmbeddings({\n",
    "  configuration: {\n",
    "    baseURL: env[\"QWEN_BASE_URL\"],\n",
    "    apiKey: env[\"QWEN_API_KEY\"],\n",
    "  },\n",
    "  model: env[\"QWEN_EMBEDDINGS_MODEL\"],\n",
    "});"
   ]
  },
  {
   "cell_type": "code",
   "execution_count": null,
   "id": "b8579787",
   "metadata": {},
   "outputs": [],
   "source": [
    "import { MemoryVectorStore } from \"langchain/vectorstores/memory\";\n",
    "\n",
    "const vectorStore = new MemoryVectorStore(embeddings);\n",
    "for (let i = 0; i < splitDocs.length; i += 10) {\n",
    "  await vectorStore.addDocuments(splitDocs.slice(i, i + 10));\n",
    "}\n",
    "const retriever = vectorStore.asRetriever(2);"
   ]
  },
  {
   "cell_type": "code",
   "execution_count": null,
   "id": "3e20664c",
   "metadata": {},
   "outputs": [],
   "source": [
    "import { RunnableSequence } from \"@langchain/core/runnables\";\n",
    "import { Document as IDocument } from \"@langchain/core/documents\";\n",
    "\n",
    "const convertDocsToString = (docs: IDocument[]): string => {\n",
    "  return docs.map((doc) => doc.pageContent).join(\"\\n\");\n",
    "};\n",
    "\n",
    "const contextRetrieverChain = RunnableSequence.from([\n",
    "  (input) => input.question,\n",
    "  retriever,\n",
    "  convertDocsToString,\n",
    "]);"
   ]
  },
  {
   "cell_type": "code",
   "execution_count": null,
   "id": "ee4551e1",
   "metadata": {},
   "outputs": [],
   "source": [
    "import { ChatPromptTemplate } from \"@langchain/core/prompts\";\n",
    "import { ChatOpenAI } from '@langchain/openai';\n",
    "import { StringOutputParser } from \"@langchain/core/output_parsers\";\n",
    "\n",
    "const SYSTEM_TEMPLATE = `\n",
    "  你是一个熟读刘慈欣的《球状闪电》的终极原着党，精通根据作品原文详细解释和回答问题，你在回答时会引用作品原文。\n",
    "  并且回答时仅根据原文，尽可能回答用户问题，如果原文中没有相关内容，你可以回答“原文中没有相关内容”，\n",
    "\n",
    "  以下是原文中跟用户回答相关的内容：\n",
    "  {context}\n",
    "\n",
    "  现在，你需要基于原文，回答以下问题：\n",
    "  {question}\n",
    "`;\n",
    "\n",
    "const systemPrompt = ChatPromptTemplate.fromTemplate(SYSTEM_TEMPLATE);\n",
    "\n",
    "const llm = new ChatOpenAI({\n",
    "  configuration: {\n",
    "    baseURL: env[\"QWEN_BASE_URL\"],\n",
    "    apiKey: env[\"QWEN_API_KEY\"],\n",
    "  },\n",
    "  model: env[\"QWEN_MODEL\"],\n",
    "});\n",
    "\n",
    "const ragChain = RunnableSequence.from([\n",
    "  {\n",
    "    context: contextRetrieverChain,\n",
    "    question: (input) => input.question,\n",
    "  },\n",
    "  systemPrompt,\n",
    "  llm,\n",
    "  new StringOutputParser(),\n",
    "] as any);"
   ]
  },
  {
   "cell_type": "code",
   "execution_count": null,
   "id": "7c6ac662",
   "metadata": {},
   "outputs": [],
   "source": [
    "const res = await ragChain.invoke({\n",
    "  question: \"什么是球状闪电？\",\n",
    "});\n",
    "res"
   ]
  }
 ],
 "metadata": {
  "kernelspec": {
   "display_name": "Deno",
   "language": "typescript",
   "name": "deno"
  },
  "language_info": {
   "codemirror_mode": "typescript",
   "file_extension": ".ts",
   "mimetype": "text/x.typescript",
   "name": "typescript",
   "nbconvert_exporter": "script",
   "pygments_lexer": "typescript",
   "version": "5.8.3"
  }
 },
 "nbformat": 4,
 "nbformat_minor": 5
}
