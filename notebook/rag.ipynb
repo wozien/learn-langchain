{
 "cells": [
  {
   "cell_type": "code",
   "execution_count": 2,
   "id": "e703cf27",
   "metadata": {},
   "outputs": [],
   "source": [
    "import { env } from './env.ts'"
   ]
  },
  {
   "cell_type": "code",
   "execution_count": 3,
   "id": "b346a733",
   "metadata": {},
   "outputs": [],
   "source": [
    "import { TextLoader } from \"langchain/document_loaders/fs/text\";\n",
    "const loader = new TextLoader('../dataset/qiu.txt');\n",
    "const docs = await loader.load()"
   ]
  },
  {
   "cell_type": "code",
   "execution_count": null,
   "id": "ac4afb9a",
   "metadata": {},
   "outputs": [],
   "source": [
    "import { RecursiveCharacterTextSplitter } from \"langchain/text_splitter\";\n",
    "const splitter = new RecursiveCharacterTextSplitter({\n",
    "  chunkSize: 500,\n",
    "  chunkOverlap: 100,\n",
    "});\n",
    "\n",
    "const splitDocs = await splitter.splitDocuments(docs);"
   ]
  },
  {
   "cell_type": "code",
   "execution_count": 5,
   "id": "6c717316",
   "metadata": {},
   "outputs": [],
   "source": [
    "import { OpenAIEmbeddings } from \"@langchain/openai\";\n",
    "\n",
    "const embeddings = new OpenAIEmbeddings({\n",
    "  configuration: {\n",
    "    baseURL: env[\"QWEN_BASE_URL\"],\n",
    "    apiKey: env[\"QWEN_API_KEY\"],\n",
    "  },\n",
    "  model: env[\"QWEN_EMBEDDINGS_MODEL\"],\n",
    "});"
   ]
  },
  {
   "cell_type": "code",
   "execution_count": 6,
   "id": "b8579787",
   "metadata": {},
   "outputs": [],
   "source": [
    "import { MemoryVectorStore } from \"langchain/vectorstores/memory\";\n",
    "\n",
    "const vectorStore = new MemoryVectorStore(embeddings);\n",
    "for (let i = 0; i < splitDocs.length; i += 10) {\n",
    "  await vectorStore.addDocuments(splitDocs.slice(i, i + 10));\n",
    "}"
   ]
  },
  {
   "cell_type": "code",
   "execution_count": null,
   "id": "3e20664c",
   "metadata": {},
   "outputs": [],
   "source": [
    "const retriever = vectorStore.asRetriever(2);\n",
    "const res = await retriever.invoke(\"原文中，谁提出了宏原子的假设？并详细介绍给我宏原子假设的理论\")"
   ]
  }
 ],
 "metadata": {
  "kernelspec": {
   "display_name": "Deno",
   "language": "typescript",
   "name": "deno"
  },
  "language_info": {
   "codemirror_mode": "typescript",
   "file_extension": ".ts",
   "mimetype": "text/x.typescript",
   "name": "typescript",
   "nbconvert_exporter": "script",
   "pygments_lexer": "typescript",
   "version": "5.8.3"
  }
 },
 "nbformat": 4,
 "nbformat_minor": 5
}
